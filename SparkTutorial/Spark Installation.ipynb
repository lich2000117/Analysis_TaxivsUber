{
 "cells": [
  {
   "cell_type": "markdown",
   "id": "8e89012c",
   "metadata": {},
   "source": [
    "## Method 1 (Docker)\n",
    "We will be using:\n",
    "- Docker for Windows 10 with WSL2 Backend (https://www.docker.com/)\n",
    "- AWS Glue container (https://hub.docker.com/r/amazon/aws-glue-libs)\n",
    "\n",
    "Steps:  \n",
    "0. (Pre-Req) Install WSL2.\n",
    "1. Download Docker and install.\n",
    "2. Set WSL2 as backend and restart.\n",
    "3. Launch WSL2 and run:\n",
    "```bash\n",
    "docker pull amazon/aws-glue-libs:glue_libs_1.0.0_image_01\n",
    "``` \n",
    "    - tag=`glue_libs_1.0.0_image_01` is the latest as of 2021\n",
    "4. Run and install the container:\n",
    "```bash\n",
    "docker run -itd -p 8888:8888 -p 4040:4040 -v %UserProfile%\\.aws:/root/.aws:rw -v C:\\Users\\YOUR_USERNAME\\Documents\\GitHub:/home/jupyter/jupyter_default_dir --name glue_jupyter amazon/aws-glue-libs:glue_libs_1.0.0_image_01 /home/jupyter/jupyter_start.sh\n",
    "```\n",
    "    - `p` specifies the port (i.e local development will be at `http://localhost:8888` or `http://localhost:4040`\n",
    "    - `-v` specifies the directory for your files\n",
    "    - `--name` specifies the container name (though the container ID will be different)\n",
    "5. Check to see the container is running with `docker ps`\n",
    "6. Launch Jupyter Notebook with your browser and open a `PySpark` kernel.\n",
    "\n",
    "## Method 2 (Preferred)\n",
    "We will be using:\n",
    "- Ubuntu 20.04 (WSL2) or MacOS.\n",
    "\n",
    "Steps:  \n",
    "0. (Pre-Req) Install WSL2 for Windows 10 users. MacOS users, please ensure your terminal is set to `bash`.\n",
    "1. Setup your Python environment (i.e `pip3 install notebook pandas numpy ...`)\n",
    "2. Install `Java` and `PySpark`:  \n",
    "- Linux\n",
    "```bash\n",
    "# install java\n",
    "sudo apt install openjdk-8-jdk -y\n",
    "# add to path\n",
    "echo 'JAVA_HOME=\"/usr/lib/jvm/java-8-openjdk-amd64\"' | sudo tee -a /etc/environment\n",
    "# apply to environment\n",
    "source /etc/environment\n",
    "# install spark\n",
    "pip3 install pyspark\n",
    "```\n",
    "- MacOS\n",
    "```bash\n",
    "# install java\n",
    "brew install openjdk@8\n",
    "# add to path (earlier OSX defaults to bash while newer ones defaults to zsh)\n",
    "echo 'export JAVA_HOME=\"$(/usr/libexec/java_home -v1.8)\"' | tee -a $HOME/.bashrc $HOME/.zshrc\n",
    "# reload java path\n",
    "source $HOME/.bashrc ; source $HOME/.zshrc\n",
    "# install spark\n",
    "pip3 install pyspark\n",
    "```\n",
    "    \n",
    "3. Launch Jupyter Notebook.\n",
    "4. Start a Spark session:  \n",
    "\n",
    "```python\n",
    "from pyspark.sql import SparkSession\n",
    "\n",
    "spark = SparkSession.builder.getOrCreate()\n",
    "```\n"
   ]
  },
  {
   "cell_type": "markdown",
   "id": "b03fb8c8",
   "metadata": {},
   "source": [
    "If you can run the following code, then it works!"
   ]
  },
  {
   "cell_type": "code",
   "execution_count": 1,
   "id": "dc795872",
   "metadata": {},
   "outputs": [
    {
     "name": "stdout",
     "output_type": "stream",
     "text": [
      "+-----+\n",
      "|hello|\n",
      "+-----+\n",
      "|spark|\n",
      "+-----+\n",
      "\n"
     ]
    }
   ],
   "source": [
    "import findspark\n",
    "\n",
    "findspark.init()\n",
    "\n",
    "import pyspark\n",
    "\n",
    "from pyspark.sql import SparkSession\n",
    "\n",
    "spark = SparkSession.builder.getOrCreate()\n",
    "\n",
    "df = spark.sql(\"select 'spark' as hello \")\n",
    "\n",
    "df.show()"
   ]
  },
  {
   "cell_type": "code",
   "execution_count": 2,
   "id": "3280b1d7",
   "metadata": {
    "ExecuteTime": {
     "end_time": "2021-06-07T03:52:10.514492Z",
     "start_time": "2021-06-07T03:52:04.660201Z"
    }
   },
   "outputs": [
    {
     "data": {
      "text/html": [
       "<table border='1'>\n",
       "<tr><th>VendorID</th><th>tpep_pickup_datetime</th><th>tpep_dropoff_datetime</th><th>passenger_count</th><th>trip_distance</th><th>pickup_longitude</th><th>pickup_latitude</th><th>RatecodeID</th><th>store_and_fwd_flag</th><th>dropoff_longitude</th><th>dropoff_latitude</th><th>payment_type</th><th>fare_amount</th><th>extra</th><th>mta_tax</th><th>tip_amount</th><th>tolls_amount</th><th>improvement_surcharge</th><th>total_amount</th></tr>\n",
       "<tr><td>2</td><td>1/12/15 0:00</td><td>1/12/15 0:05</td><td>5</td><td>0.96</td><td>-73.97994232</td><td>40.76538086</td><td>1</td><td>N</td><td>-73.96630859</td><td>40.76308823</td><td>1</td><td>5.5</td><td>0.5</td><td>0.5</td><td>1.0</td><td>0.0</td><td>0.3</td><td>7.8</td></tr>\n",
       "<tr><td>2</td><td>1/12/15 0:00</td><td>1/12/15 0:00</td><td>2</td><td>2.69</td><td>-73.97233582</td><td>40.76237869</td><td>1</td><td>N</td><td>-73.99362946</td><td>40.74599838</td><td>1</td><td>21.5</td><td>0.0</td><td>0.5</td><td>3.34</td><td>0.0</td><td>0.3</td><td>25.64</td></tr>\n",
       "<tr><td>2</td><td>1/12/15 0:00</td><td>1/12/15 0:00</td><td>1</td><td>2.62</td><td>-73.96884918</td><td>40.76453018</td><td>1</td><td>N</td><td>-73.97454834</td><td>40.79164124</td><td>1</td><td>17.0</td><td>0.0</td><td>0.5</td><td>3.56</td><td>0.0</td><td>0.3</td><td>21.36</td></tr>\n",
       "<tr><td>1</td><td>1/12/15 0:00</td><td>1/12/15 0:05</td><td>1</td><td>1.2</td><td>-73.99393463</td><td>40.74168396</td><td>1</td><td>N</td><td>-73.99766541</td><td>40.74746704</td><td>1</td><td>6.5</td><td>0.5</td><td>0.5</td><td>0.2</td><td>0.0</td><td>0.3</td><td>8.0</td></tr>\n",
       "<tr><td>1</td><td>1/12/15 0:00</td><td>1/12/15 0:09</td><td>2</td><td>3.0</td><td>-73.98892212</td><td>40.72698975</td><td>1</td><td>N</td><td>-73.97559357</td><td>40.6968689</td><td>2</td><td>11.0</td><td>0.5</td><td>0.5</td><td>0.0</td><td>0.0</td><td>0.3</td><td>12.3</td></tr>\n",
       "<tr><td>1</td><td>1/12/15 0:00</td><td>1/12/15 0:16</td><td>1</td><td>6.3</td><td>-73.97408295</td><td>40.76291275</td><td>1</td><td>N</td><td>-74.01280212</td><td>40.70220947</td><td>1</td><td>20.5</td><td>0.5</td><td>0.5</td><td>4.35</td><td>0.0</td><td>0.3</td><td>26.15</td></tr>\n",
       "<tr><td>2</td><td>1/12/15 0:00</td><td>1/12/15 0:02</td><td>6</td><td>0.63</td><td>-73.96831512</td><td>40.75532913</td><td>1</td><td>N</td><td>-73.96208191</td><td>40.75891495</td><td>1</td><td>4.0</td><td>0.5</td><td>0.5</td><td>1.06</td><td>0.0</td><td>0.3</td><td>6.36</td></tr>\n",
       "<tr><td>2</td><td>1/12/15 0:00</td><td>1/12/15 0:08</td><td>2</td><td>1.91</td><td>-73.99420929</td><td>40.74610138</td><td>1</td><td>N</td><td>-74.00424957</td><td>40.72180939</td><td>1</td><td>8.0</td><td>0.5</td><td>0.5</td><td>1.86</td><td>0.0</td><td>0.3</td><td>11.16</td></tr>\n",
       "<tr><td>2</td><td>1/12/15 0:00</td><td>1/12/15 0:17</td><td>1</td><td>4.5</td><td>-74.00675964</td><td>40.7189064</td><td>1</td><td>N</td><td>-73.98969269</td><td>40.77285385</td><td>1</td><td>16.5</td><td>0.5</td><td>0.5</td><td>3.56</td><td>0.0</td><td>0.3</td><td>21.36</td></tr>\n",
       "<tr><td>2</td><td>1/12/15 0:00</td><td>1/12/15 0:10</td><td>2</td><td>1.42</td><td>-73.99963379</td><td>40.73477173</td><td>1</td><td>N</td><td>-73.98906708</td><td>40.72312164</td><td>1</td><td>8.5</td><td>0.5</td><td>0.5</td><td>2.45</td><td>0.0</td><td>0.3</td><td>12.25</td></tr>\n",
       "<tr><td>2</td><td>1/12/15 0:00</td><td>1/12/15 0:10</td><td>6</td><td>2.02</td><td>-73.98268127</td><td>40.7313118</td><td>1</td><td>N</td><td>-74.00601196</td><td>40.74523163</td><td>2</td><td>9.5</td><td>0.5</td><td>0.5</td><td>0.0</td><td>0.0</td><td>0.3</td><td>10.8</td></tr>\n",
       "<tr><td>1</td><td>1/12/15 0:00</td><td>1/12/15 0:00</td><td>1</td><td>0.0</td><td>-73.99015808</td><td>40.75619888</td><td>5</td><td>Y</td><td>0.0</td><td>0.0</td><td>2</td><td>0.0</td><td>0.0</td><td>0.0</td><td>0.0</td><td>0.0</td><td>0.0</td><td>0.0</td></tr>\n",
       "<tr><td>1</td><td>1/12/15 0:00</td><td>1/12/15 0:05</td><td>1</td><td>1.0</td><td>-73.99576569</td><td>40.74378967</td><td>1</td><td>N</td><td>-74.00262451</td><td>40.73054504</td><td>1</td><td>6.0</td><td>0.5</td><td>0.5</td><td>2.15</td><td>0.0</td><td>0.3</td><td>9.45</td></tr>\n",
       "<tr><td>2</td><td>1/12/15 0:00</td><td>2/12/15 0:00</td><td>1</td><td>0.94</td><td>-74.00541687</td><td>40.72728348</td><td>1</td><td>N</td><td>-73.99701691</td><td>40.72539139</td><td>1</td><td>5.0</td><td>0.5</td><td>0.5</td><td>0.0</td><td>0.0</td><td>0.3</td><td>6.3</td></tr>\n",
       "<tr><td>2</td><td>1/12/15 0:00</td><td>1/12/15 0:09</td><td>1</td><td>1.73</td><td>-73.99933624</td><td>40.72832108</td><td>1</td><td>N</td><td>-73.98088074</td><td>40.73778152</td><td>1</td><td>8.5</td><td>0.5</td><td>0.5</td><td>1.96</td><td>0.0</td><td>0.3</td><td>11.76</td></tr>\n",
       "<tr><td>2</td><td>1/12/15 0:00</td><td>1/12/15 0:15</td><td>1</td><td>1.77</td><td>-73.97589874</td><td>40.75598145</td><td>1</td><td>N</td><td>-73.97711182</td><td>40.75017548</td><td>1</td><td>11.5</td><td>0.5</td><td>0.5</td><td>3.84</td><td>0.0</td><td>0.3</td><td>16.64</td></tr>\n",
       "<tr><td>1</td><td>1/12/15 0:00</td><td>1/12/15 0:05</td><td>1</td><td>1.8</td><td>-73.98841095</td><td>40.76442337</td><td>1</td><td>N</td><td>-73.99378204</td><td>40.74340439</td><td>1</td><td>7.0</td><td>0.5</td><td>0.5</td><td>2.05</td><td>0.0</td><td>0.3</td><td>10.35</td></tr>\n",
       "<tr><td>2</td><td>1/12/15 0:00</td><td>1/12/15 0:10</td><td>1</td><td>2.9</td><td>-74.00462341</td><td>40.7215004</td><td>1</td><td>N</td><td>-73.97710419</td><td>40.74701691</td><td>1</td><td>11.0</td><td>0.5</td><td>0.5</td><td>3.08</td><td>0.0</td><td>0.3</td><td>15.38</td></tr>\n",
       "<tr><td>1</td><td>1/12/15 0:00</td><td>1/12/15 0:43</td><td>1</td><td>21.4</td><td>-73.78109741</td><td>40.64500046</td><td>2</td><td>N</td><td>-74.00856781</td><td>40.7028656</td><td>1</td><td>52.0</td><td>0.0</td><td>0.5</td><td>8.0</td><td>0.0</td><td>0.3</td><td>60.8</td></tr>\n",
       "<tr><td>1</td><td>1/12/15 0:00</td><td>1/12/15 0:19</td><td>1</td><td>4.8</td><td>-74.00603485</td><td>40.73537064</td><td>1</td><td>N</td><td>-73.97029114</td><td>40.69006729</td><td>1</td><td>18.0</td><td>0.5</td><td>0.5</td><td>5.0</td><td>0.0</td><td>0.3</td><td>24.3</td></tr>\n",
       "</table>\n",
       "only showing top 20 rows\n"
      ],
      "text/plain": [
       "+--------+--------------------+---------------------+---------------+-------------+----------------+---------------+----------+------------------+-----------------+----------------+------------+-----------+-----+-------+----------+------------+---------------------+------------+\n",
       "|VendorID|tpep_pickup_datetime|tpep_dropoff_datetime|passenger_count|trip_distance|pickup_longitude|pickup_latitude|RatecodeID|store_and_fwd_flag|dropoff_longitude|dropoff_latitude|payment_type|fare_amount|extra|mta_tax|tip_amount|tolls_amount|improvement_surcharge|total_amount|\n",
       "+--------+--------------------+---------------------+---------------+-------------+----------------+---------------+----------+------------------+-----------------+----------------+------------+-----------+-----+-------+----------+------------+---------------------+------------+\n",
       "|       2|        1/12/15 0:00|         1/12/15 0:05|              5|         0.96|    -73.97994232|    40.76538086|         1|                 N|     -73.96630859|     40.76308823|           1|        5.5|  0.5|    0.5|       1.0|         0.0|                  0.3|         7.8|\n",
       "|       2|        1/12/15 0:00|         1/12/15 0:00|              2|         2.69|    -73.97233582|    40.76237869|         1|                 N|     -73.99362946|     40.74599838|           1|       21.5|  0.0|    0.5|      3.34|         0.0|                  0.3|       25.64|\n",
       "|       2|        1/12/15 0:00|         1/12/15 0:00|              1|         2.62|    -73.96884918|    40.76453018|         1|                 N|     -73.97454834|     40.79164124|           1|       17.0|  0.0|    0.5|      3.56|         0.0|                  0.3|       21.36|\n",
       "|       1|        1/12/15 0:00|         1/12/15 0:05|              1|          1.2|    -73.99393463|    40.74168396|         1|                 N|     -73.99766541|     40.74746704|           1|        6.5|  0.5|    0.5|       0.2|         0.0|                  0.3|         8.0|\n",
       "|       1|        1/12/15 0:00|         1/12/15 0:09|              2|          3.0|    -73.98892212|    40.72698975|         1|                 N|     -73.97559357|      40.6968689|           2|       11.0|  0.5|    0.5|       0.0|         0.0|                  0.3|        12.3|\n",
       "|       1|        1/12/15 0:00|         1/12/15 0:16|              1|          6.3|    -73.97408295|    40.76291275|         1|                 N|     -74.01280212|     40.70220947|           1|       20.5|  0.5|    0.5|      4.35|         0.0|                  0.3|       26.15|\n",
       "|       2|        1/12/15 0:00|         1/12/15 0:02|              6|         0.63|    -73.96831512|    40.75532913|         1|                 N|     -73.96208191|     40.75891495|           1|        4.0|  0.5|    0.5|      1.06|         0.0|                  0.3|        6.36|\n",
       "|       2|        1/12/15 0:00|         1/12/15 0:08|              2|         1.91|    -73.99420929|    40.74610138|         1|                 N|     -74.00424957|     40.72180939|           1|        8.0|  0.5|    0.5|      1.86|         0.0|                  0.3|       11.16|\n",
       "|       2|        1/12/15 0:00|         1/12/15 0:17|              1|          4.5|    -74.00675964|     40.7189064|         1|                 N|     -73.98969269|     40.77285385|           1|       16.5|  0.5|    0.5|      3.56|         0.0|                  0.3|       21.36|\n",
       "|       2|        1/12/15 0:00|         1/12/15 0:10|              2|         1.42|    -73.99963379|    40.73477173|         1|                 N|     -73.98906708|     40.72312164|           1|        8.5|  0.5|    0.5|      2.45|         0.0|                  0.3|       12.25|\n",
       "|       2|        1/12/15 0:00|         1/12/15 0:10|              6|         2.02|    -73.98268127|     40.7313118|         1|                 N|     -74.00601196|     40.74523163|           2|        9.5|  0.5|    0.5|       0.0|         0.0|                  0.3|        10.8|\n",
       "|       1|        1/12/15 0:00|         1/12/15 0:00|              1|          0.0|    -73.99015808|    40.75619888|         5|                 Y|              0.0|             0.0|           2|        0.0|  0.0|    0.0|       0.0|         0.0|                  0.0|         0.0|\n",
       "|       1|        1/12/15 0:00|         1/12/15 0:05|              1|          1.0|    -73.99576569|    40.74378967|         1|                 N|     -74.00262451|     40.73054504|           1|        6.0|  0.5|    0.5|      2.15|         0.0|                  0.3|        9.45|\n",
       "|       2|        1/12/15 0:00|         2/12/15 0:00|              1|         0.94|    -74.00541687|    40.72728348|         1|                 N|     -73.99701691|     40.72539139|           1|        5.0|  0.5|    0.5|       0.0|         0.0|                  0.3|         6.3|\n",
       "|       2|        1/12/15 0:00|         1/12/15 0:09|              1|         1.73|    -73.99933624|    40.72832108|         1|                 N|     -73.98088074|     40.73778152|           1|        8.5|  0.5|    0.5|      1.96|         0.0|                  0.3|       11.76|\n",
       "|       2|        1/12/15 0:00|         1/12/15 0:15|              1|         1.77|    -73.97589874|    40.75598145|         1|                 N|     -73.97711182|     40.75017548|           1|       11.5|  0.5|    0.5|      3.84|         0.0|                  0.3|       16.64|\n",
       "|       1|        1/12/15 0:00|         1/12/15 0:05|              1|          1.8|    -73.98841095|    40.76442337|         1|                 N|     -73.99378204|     40.74340439|           1|        7.0|  0.5|    0.5|      2.05|         0.0|                  0.3|       10.35|\n",
       "|       2|        1/12/15 0:00|         1/12/15 0:10|              1|          2.9|    -74.00462341|     40.7215004|         1|                 N|     -73.97710419|     40.74701691|           1|       11.0|  0.5|    0.5|      3.08|         0.0|                  0.3|       15.38|\n",
       "|       1|        1/12/15 0:00|         1/12/15 0:43|              1|         21.4|    -73.78109741|    40.64500046|         2|                 N|     -74.00856781|      40.7028656|           1|       52.0|  0.0|    0.5|       8.0|         0.0|                  0.3|        60.8|\n",
       "|       1|        1/12/15 0:00|         1/12/15 0:19|              1|          4.8|    -74.00603485|    40.73537064|         1|                 N|     -73.97029114|     40.69006729|           1|       18.0|  0.5|    0.5|       5.0|         0.0|                  0.3|        24.3|\n",
       "+--------+--------------------+---------------------+---------------+-------------+----------------+---------------+----------+------------------+-----------------+----------------+------------+-----------+-----+-------+----------+------------+---------------------+------------+\n",
       "only showing top 20 rows"
      ]
     },
     "execution_count": 2,
     "metadata": {},
     "output_type": "execute_result"
    }
   ],
   "source": [
    "from pyspark.sql import SparkSession\n",
    "# Create a spark session (which will run spark jobs)\n",
    "spark = SparkSession.builder.getOrCreate()\n",
    "\n",
    "#spark.conf.set('spark.ui.showConsoleProgress.enabled', True)\n",
    "# set some configs - you'll learn about them later on\n",
    "spark.conf.set('spark.sql.repl.eagerEval.enabled', True)\n",
    "\n",
    "sdf = spark.read.csv('../data/sample.csv', header=True)\n",
    "\n",
    "sdf"
   ]
  }
 ],
 "metadata": {
  "kernelspec": {
   "display_name": "Python 3",
   "language": "python",
   "name": "python3"
  },
  "language_info": {
   "codemirror_mode": {
    "name": "ipython",
    "version": 3
   },
   "file_extension": ".py",
   "mimetype": "text/x-python",
   "name": "python",
   "nbconvert_exporter": "python",
   "pygments_lexer": "ipython3",
   "version": "3.10.2"
  },
  "latex_envs": {
   "LaTeX_envs_menu_present": true,
   "autoclose": false,
   "autocomplete": true,
   "bibliofile": "biblio.bib",
   "cite_by": "apalike",
   "current_citInitial": 1,
   "eqLabelWithNumbers": true,
   "eqNumInitial": 1,
   "hotkeys": {
    "equation": "Ctrl-E",
    "itemize": "Ctrl-I"
   },
   "labels_anchors": false,
   "latex_user_defs": false,
   "report_style_numbering": false,
   "user_envs_cfg": false
  },
  "toc": {
   "base_numbering": 1,
   "nav_menu": {},
   "number_sections": true,
   "sideBar": true,
   "skip_h1_title": false,
   "title_cell": "Table of Contents",
   "title_sidebar": "Contents",
   "toc_cell": false,
   "toc_position": {},
   "toc_section_display": true,
   "toc_window_display": false
  },
  "varInspector": {
   "cols": {
    "lenName": 16,
    "lenType": 16,
    "lenVar": 40
   },
   "kernels_config": {
    "python": {
     "delete_cmd_postfix": "",
     "delete_cmd_prefix": "del ",
     "library": "var_list.py",
     "varRefreshCmd": "print(var_dic_list())"
    },
    "r": {
     "delete_cmd_postfix": ") ",
     "delete_cmd_prefix": "rm(",
     "library": "var_list.r",
     "varRefreshCmd": "cat(var_dic_list()) "
    }
   },
   "types_to_exclude": [
    "module",
    "function",
    "builtin_function_or_method",
    "instance",
    "_Feature"
   ],
   "window_display": false
  }
 },
 "nbformat": 4,
 "nbformat_minor": 5
}
