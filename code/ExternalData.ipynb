{
 "cells": [
  {
   "cell_type": "code",
   "execution_count": null,
   "metadata": {},
   "outputs": [],
   "source": []
  },
  {
   "cell_type": "code",
   "execution_count": 1,
   "metadata": {
    "ExecuteTime": {
     "end_time": "2021-08-14T14:32:07.097203Z",
     "start_time": "2021-08-14T14:32:03.663243Z"
    }
   },
   "outputs": [],
   "source": [
    "from bokeh.plotting import figure, show\n",
    "from bokeh.tile_providers import get_provider, Vendors\n",
    "from bokeh.io import save, reset_output, output_notebook\n",
    "import folium\n",
    "from pyspark.sql import SparkSession\n",
    "import warnings\n",
    "warnings.filterwarnings(\"ignore\")\n",
    "import pyspark.sql.functions as F\n",
    "from pyspark.sql.types import *\n",
    "from pyspark.sql.functions import col, datediff, round, to_date, lit, desc, date_format, to_timestamp\n",
    "import pyspark.sql.functions as F\n",
    "import geopandas as gpd\n",
    "import pandas as pd\n",
    "import numpy as np\n",
    "import seaborn as sns\n",
    "import matplotlib.pyplot as plt\n",
    "from shutil import rmtree\n",
    "from os import path\n",
    "plt.rcParams['figure.dpi'] = 300\n",
    "\n",
    "from pyspark.sql.types import *\n",
    "from pyspark.sql.functions import col\n",
    "from pyspark import SparkContext\n",
    "\n",
    "# create a spark session (which will run spark jobs)\n",
    "spark = SparkSession.builder.getOrCreate()\n",
    "\n",
    "sc = SparkContext.getOrCreate(conf=swan_spark_conf) #Start the spark context\n",
    "spark.conf.set('spark.sql.execution.arrow.pyspark.enabled', True)\n",
    "spark.conf.set('spark.sql.repl.eagerEval.enabled', True)\n",
    "\n"
   ]
  },
  {
   "cell_type": "markdown",
   "metadata": {},
   "source": [
    "Traffic Data Source: https://data.cityofnewyork.us/Transportation/Traffic-Volume-Counts-2014-2019-/ertz-hr4r\n",
    "\n",
    "API:https://data.cityofnewyork.us/resource/ertz-hr4r.json"
   ]
  },
  {
   "cell_type": "markdown",
   "metadata": {},
   "source": [
    "## Generate Traffic Daily Data With WeekDay Label"
   ]
  },
  {
   "cell_type": "code",
   "execution_count": 2,
   "metadata": {
    "ExecuteTime": {
     "end_time": "2021-08-14T14:32:09.756585Z",
     "start_time": "2021-08-14T14:32:07.098652Z"
    }
   },
   "outputs": [
    {
     "data": {
      "text/html": [
       "<table border='1'>\n",
       "<tr><th>ID</th><th>Segment ID</th><th>Roadway Name</th><th>From</th><th>To</th><th>Direction</th><th>Date</th><th>12:00-1:00 AM</th><th>1:00-2:00AM</th><th>2:00-3:00AM</th><th>3:00-4:00AM</th><th>4:00-5:00AM</th><th>5:00-6:00AM</th><th>6:00-7:00AM</th><th>7:00-8:00AM</th><th>8:00-9:00AM</th><th>9:00-10:00AM</th><th>10:00-11:00AM</th><th>11:00-12:00PM</th><th>12:00-1:00PM</th><th>1:00-2:00PM</th><th>2:00-3:00PM</th><th>3:00-4:00PM</th><th>4:00-5:00PM</th><th>5:00-6:00PM</th><th>6:00-7:00PM</th><th>7:00-8:00PM</th><th>8:00-9:00PM</th><th>9:00-10:00PM</th><th>10:00-11:00PM</th><th>11:00-12:00AM</th></tr>\n",
       "<tr><td>2</td><td>70376</td><td>3 Avenue</td><td>East 154 Street</td><td>East 155 Street</td><td>NB</td><td>09/13/2014</td><td>204</td><td>177</td><td>133</td><td>126</td><td>141</td><td>134</td><td>121</td><td>180</td><td>223</td><td>272</td><td>386</td><td>339</td><td>513</td><td>506</td><td>520</td><td>611</td><td>573</td><td>546</td><td>582</td><td>528</td><td>432</td><td>328</td><td>282</td><td>240</td></tr>\n",
       "<tr><td>2</td><td>70376</td><td>3 Avenue</td><td>East 155 Street</td><td>East 154 Street</td><td>SB</td><td>09/13/2014</td><td>140</td><td>51</td><td>128</td><td>116</td><td>144</td><td>146</td><td>153</td><td>219</td><td>226</td><td>273</td><td>317</td><td>325</td><td>403</td><td>414</td><td>379</td><td>376</td><td>329</td><td>362</td><td>418</td><td>335</td><td>282</td><td>247</td><td>237</td><td>191</td></tr>\n",
       "<tr><td>56</td><td>176365</td><td>Bedford Park Boul...</td><td>Grand Concourse</td><td>Valentine Avenue</td><td>EB</td><td>09/13/2014</td><td>94</td><td>73</td><td>65</td><td>61</td><td>64</td><td>73</td><td>65</td><td>113</td><td>169</td><td>210</td><td>182</td><td>245</td><td>244</td><td>233</td><td>280</td><td>272</td><td>264</td><td>236</td><td>213</td><td>190</td><td>199</td><td>183</td><td>147</td><td>103</td></tr>\n",
       "</table>\n"
      ],
      "text/plain": [
       "+---+----------+--------------------+---------------+----------------+---------+----------+-------------+-----------+-----------+-----------+-----------+-----------+-----------+-----------+-----------+------------+-------------+-------------+------------+-----------+-----------+-----------+-----------+-----------+-----------+-----------+-----------+------------+-------------+-------------+\n",
       "| ID|Segment ID|        Roadway Name|           From|              To|Direction|      Date|12:00-1:00 AM|1:00-2:00AM|2:00-3:00AM|3:00-4:00AM|4:00-5:00AM|5:00-6:00AM|6:00-7:00AM|7:00-8:00AM|8:00-9:00AM|9:00-10:00AM|10:00-11:00AM|11:00-12:00PM|12:00-1:00PM|1:00-2:00PM|2:00-3:00PM|3:00-4:00PM|4:00-5:00PM|5:00-6:00PM|6:00-7:00PM|7:00-8:00PM|8:00-9:00PM|9:00-10:00PM|10:00-11:00PM|11:00-12:00AM|\n",
       "+---+----------+--------------------+---------------+----------------+---------+----------+-------------+-----------+-----------+-----------+-----------+-----------+-----------+-----------+-----------+------------+-------------+-------------+------------+-----------+-----------+-----------+-----------+-----------+-----------+-----------+-----------+------------+-------------+-------------+\n",
       "|  2|     70376|            3 Avenue|East 154 Street| East 155 Street|       NB|09/13/2014|          204|        177|        133|        126|        141|        134|        121|        180|        223|         272|          386|          339|         513|        506|        520|        611|        573|        546|        582|        528|        432|         328|          282|          240|\n",
       "|  2|     70376|            3 Avenue|East 155 Street| East 154 Street|       SB|09/13/2014|          140|         51|        128|        116|        144|        146|        153|        219|        226|         273|          317|          325|         403|        414|        379|        376|        329|        362|        418|        335|        282|         247|          237|          191|\n",
       "| 56|    176365|Bedford Park Boul...|Grand Concourse|Valentine Avenue|       EB|09/13/2014|           94|         73|         65|         61|         64|         73|         65|        113|        169|         210|          182|          245|         244|        233|        280|        272|        264|        236|        213|        190|        199|         183|          147|          103|\n",
       "+---+----------+--------------------+---------------+----------------+---------+----------+-------------+-----------+-----------+-----------+-----------+-----------+-----------+-----------+-----------+------------+-------------+-------------+------------+-----------+-----------+-----------+-----------+-----------+-----------+-----------+-----------+------------+-------------+-------------+"
      ]
     },
     "execution_count": 2,
     "metadata": {},
     "output_type": "execute_result"
    }
   ],
   "source": [
    "sdf_traffic = spark.read.csv(\"../raw_data/Traffic_Volume_Counts__2014-2019_.csv\", header=True)\n",
    "sdf_traffic.limit(3)"
   ]
  },
  {
   "cell_type": "code",
   "execution_count": 3,
   "metadata": {
    "ExecuteTime": {
     "end_time": "2021-08-14T14:32:10.450782Z",
     "start_time": "2021-08-14T14:32:09.757546Z"
    }
   },
   "outputs": [],
   "source": [
    "\n",
    "\n",
    "\n",
    "sdf_traffic = sdf_traffic.withColumn(\"date\", to_date(sdf_traffic[\"Date\"],\"MM/dd/yyyy\"))\n",
    "\n",
    "sdf_traffic = sdf_traffic.filter(sdf_traffic[\"date\"] >= lit(\"2018-01-01\"))\\\n",
    "       .filter(sdf_traffic[\"date\"] <= lit(\"2018-05-31\"))\n",
    "\n",
    "traffic_df = sdf_traffic.toPandas()\n",
    "traffic_df[\"Volume\"] = traffic_df.iloc[:,7:].astype(int).sum(axis=1)\n",
    "\n",
    "cols = list(traffic_df.columns)\n",
    "\n",
    "traffic_df.drop(cols[7:-1], inplace=True, axis = 1)\n",
    "traffic_df.drop(cols[0:6], inplace=True, axis = 1)\n",
    "\n",
    "\n",
    "\n",
    "traffic_df.sort_values(\"date\",inplace=True)"
   ]
  },
  {
   "cell_type": "code",
   "execution_count": 4,
   "metadata": {
    "ExecuteTime": {
     "end_time": "2021-08-14T14:32:10.888835Z",
     "start_time": "2021-08-14T14:32:10.452039Z"
    }
   },
   "outputs": [
    {
     "data": {
      "text/html": [
       "<table border='1'>\n",
       "<tr><th>ID</th><th>Segment ID</th><th>Roadway Name</th><th>From</th><th>To</th><th>Direction</th><th>date</th><th>12:00-1:00 AM</th><th>1:00-2:00AM</th><th>2:00-3:00AM</th><th>3:00-4:00AM</th><th>4:00-5:00AM</th><th>5:00-6:00AM</th><th>6:00-7:00AM</th><th>7:00-8:00AM</th><th>8:00-9:00AM</th><th>9:00-10:00AM</th><th>10:00-11:00AM</th><th>11:00-12:00PM</th><th>12:00-1:00PM</th><th>1:00-2:00PM</th><th>2:00-3:00PM</th><th>3:00-4:00PM</th><th>4:00-5:00PM</th><th>5:00-6:00PM</th><th>6:00-7:00PM</th><th>7:00-8:00PM</th><th>8:00-9:00PM</th><th>9:00-10:00PM</th><th>10:00-11:00PM</th><th>11:00-12:00AM</th></tr>\n",
       "<tr><td>317</td><td>69696</td><td>River Avenue</td><td>East 150 Street</td><td>East 151 Street</td><td>NB</td><td>2018-01-20</td><td>88</td><td>62</td><td>41</td><td>27</td><td>37</td><td>30</td><td>46</td><td>58</td><td>147</td><td>174</td><td>211</td><td>251</td><td>311</td><td>323</td><td>310</td><td>362</td><td>309</td><td>319</td><td>296</td><td>258</td><td>203</td><td>177</td><td>153</td><td>127</td></tr>\n",
       "<tr><td>317</td><td>69696</td><td>River Avenue</td><td>East 150 Street</td><td>East 151 Street</td><td>SB</td><td>2018-01-20</td><td>50</td><td>37</td><td>25</td><td>15</td><td>21</td><td>30</td><td>50</td><td>78</td><td>99</td><td>115</td><td>146</td><td>174</td><td>216</td><td>186</td><td>205</td><td>237</td><td>240</td><td>237</td><td>247</td><td>211</td><td>175</td><td>142</td><td>104</td><td>99</td></tr>\n",
       "<tr><td>318</td><td>70607</td><td>East 163 Street</td><td>EAGLE Avenue</td><td>CAULDWELL Avenue</td><td>EB</td><td>2018-01-20</td><td>274</td><td>220</td><td>158</td><td>139</td><td>153</td><td>120</td><td>168</td><td>275</td><td>356</td><td>439</td><td>461</td><td>480</td><td>507</td><td>570</td><td>616</td><td>605</td><td>600</td><td>589</td><td>617</td><td>528</td><td>501</td><td>446</td><td>437</td><td>347</td></tr>\n",
       "<tr><td>318</td><td>70607</td><td>East 163 Street</td><td>EAGLE Avenue</td><td>CAULDWELL Avenue</td><td>WB</td><td>2018-01-20</td><td>243</td><td>180</td><td>152</td><td>138</td><td>164</td><td>119</td><td>153</td><td>194</td><td>276</td><td>350</td><td>368</td><td>420</td><td>436</td><td>523</td><td>536</td><td>544</td><td>556</td><td>546</td><td>522</td><td>516</td><td>439</td><td>466</td><td>384</td><td>331</td></tr>\n",
       "<tr><td>319</td><td>78940</td><td>East 174 Street</td><td>Hoe Avenue</td><td>Vyse Avenue</td><td>EB</td><td>2018-01-20</td><td>97</td><td>57</td><td>38</td><td>45</td><td>35</td><td>63</td><td>73</td><td>119</td><td>196</td><td>265</td><td>322</td><td>346</td><td>369</td><td>395</td><td>394</td><td>363</td><td>347</td><td>360</td><td>283</td><td>287</td><td>221</td><td>235</td><td>152</td><td>175</td></tr>\n",
       "<tr><td>319</td><td>78940</td><td>East 174 Street</td><td>Hoe Avenue</td><td>Vyse Avenue</td><td>WB</td><td>2018-01-20</td><td>140</td><td>84</td><td>64</td><td>56</td><td>38</td><td>44</td><td>50</td><td>77</td><td>145</td><td>202</td><td>279</td><td>331</td><td>366</td><td>325</td><td>324</td><td>363</td><td>426</td><td>351</td><td>318</td><td>305</td><td>239</td><td>210</td><td>173</td><td>170</td></tr>\n",
       "<tr><td>320</td><td>69836</td><td>East 149 Street</td><td>Park Avenue</td><td>Morris Avenue</td><td>EB</td><td>2018-01-20</td><td>196</td><td>96</td><td>66</td><td>46</td><td>40</td><td>55</td><td>77</td><td>207</td><td>307</td><td>341</td><td>395</td><td>433</td><td>431</td><td>522</td><td>515</td><td>538</td><td>554</td><td>498</td><td>560</td><td>434</td><td>449</td><td>356</td><td>334</td><td>279</td></tr>\n",
       "<tr><td>320</td><td>69836</td><td>East 149 Street</td><td>Park Avenue</td><td>Morris Avenue</td><td>WB</td><td>2018-01-20</td><td>249</td><td>216</td><td>165</td><td>162</td><td>160</td><td>127</td><td>196</td><td>238</td><td>368</td><td>404</td><td>442</td><td>491</td><td>495</td><td>572</td><td>535</td><td>563</td><td>713</td><td>582</td><td>536</td><td>522</td><td>442</td><td>398</td><td>399</td><td>388</td></tr>\n",
       "<tr><td>321</td><td>111203</td><td>Exterior Street/1...</td><td>3 Avenue</td><td>East 138 Street</td><td>SB</td><td>2018-01-20</td><td>833</td><td>605</td><td>431</td><td>374</td><td>427</td><td>579</td><td>751</td><td>884</td><td>952</td><td>983</td><td>1017</td><td>1112</td><td>1171</td><td>1266</td><td>1455</td><td>1464</td><td>1454</td><td>1419</td><td>1358</td><td>1275</td><td>1166</td><td>1057</td><td>1032</td><td>1038</td></tr>\n",
       "<tr><td>322</td><td>151663</td><td>Woodhaven Bouleva...</td><td>97 Avenue</td><td>101 Avenue</td><td>NB</td><td>2018-01-20</td><td>488</td><td>325</td><td>246</td><td>219</td><td>266</td><td>255</td><td>359</td><td>480</td><td>667</td><td>797</td><td>940</td><td>998</td><td>1205</td><td>1230</td><td>1350</td><td>1351</td><td>1396</td><td>1241</td><td>1175</td><td>1225</td><td>1083</td><td>915</td><td>814</td><td>654</td></tr>\n",
       "<tr><td>322</td><td>156005</td><td>Woodhaven Bouleva...</td><td>97 Avenue</td><td>101 Avenue</td><td>SB</td><td>2018-01-20</td><td>503</td><td>369</td><td>247</td><td>229</td><td>212</td><td>227</td><td>331</td><td>404</td><td>555</td><td>744</td><td>807</td><td>932</td><td>1058</td><td>1168</td><td>1190</td><td>1233</td><td>1172</td><td>1281</td><td>1278</td><td>1141</td><td>938</td><td>839</td><td>731</td><td>677</td></tr>\n",
       "<tr><td>322</td><td>151662</td><td>Woodhaven Bouleva...</td><td>97 Avenue</td><td>101 Avenue</td><td>NB</td><td>2018-01-20</td><td>233</td><td>128</td><td>92</td><td>76</td><td>95</td><td>124</td><td>167</td><td>216</td><td>309</td><td>377</td><td>452</td><td>456</td><td>473</td><td>536</td><td>552</td><td>576</td><td>582</td><td>562</td><td>544</td><td>453</td><td>478</td><td>351</td><td>309</td><td>283</td></tr>\n",
       "<tr><td>322</td><td>151664</td><td>Woodhaven Bouleva...</td><td>97 Avenue</td><td>101 Avenue</td><td>SB</td><td>2018-01-20</td><td>105</td><td>72</td><td>49</td><td>40</td><td>42</td><td>45</td><td>73</td><td>119</td><td>155</td><td>200</td><td>218</td><td>247</td><td>245</td><td>262</td><td>262</td><td>289</td><td>272</td><td>285</td><td>288</td><td>268</td><td>204</td><td>176</td><td>166</td><td>126</td></tr>\n",
       "<tr><td>323</td><td>176365</td><td>Bedford Park Boul...</td><td>Grand Concourse</td><td>Valentine Avenue</td><td>NB</td><td>2018-01-20</td><td>79</td><td>69</td><td>62</td><td>58</td><td>57</td><td>53</td><td>92</td><td>94</td><td>205</td><td>200</td><td>189</td><td>215</td><td>290</td><td>241</td><td>263</td><td>317</td><td>290</td><td>255</td><td>220</td><td>250</td><td>182</td><td>163</td><td>143</td><td>109</td></tr>\n",
       "<tr><td>323</td><td>176365</td><td>Bedford Park Boul...</td><td>Grand Concourse</td><td>Valentine Avenue</td><td>SB</td><td>2018-01-20</td><td>123</td><td>125</td><td>78</td><td>66</td><td>55</td><td>66</td><td>69</td><td>107</td><td>148</td><td>174</td><td>177</td><td>192</td><td>233</td><td>243</td><td>286</td><td>296</td><td>321</td><td>289</td><td>282</td><td>255</td><td>281</td><td>243</td><td>205</td><td>180</td></tr>\n",
       "<tr><td>323</td><td>154787</td><td>Bedford Park Boul...</td><td>Grand Concourse</td><td>Valentine Avenue</td><td>NB</td><td>2018-01-20</td><td>136</td><td>88</td><td>57</td><td>61</td><td>51</td><td>72</td><td>79</td><td>129</td><td>163</td><td>176</td><td>237</td><td>251</td><td>288</td><td>311</td><td>331</td><td>316</td><td>338</td><td>315</td><td>298</td><td>260</td><td>260</td><td>185</td><td>192</td><td>170</td></tr>\n",
       "<tr><td>323</td><td>154501</td><td>Bedford Park Boul...</td><td>Grand Concourse</td><td>Valentine Avenue</td><td>SB</td><td>2018-01-20</td><td>131</td><td>95</td><td>67</td><td>80</td><td>73</td><td>59</td><td>116</td><td>114</td><td>194</td><td>197</td><td>192</td><td>216</td><td>358</td><td>299</td><td>301</td><td>278</td><td>364</td><td>323</td><td>269</td><td>270</td><td>232</td><td>225</td><td>192</td><td>272</td></tr>\n",
       "<tr><td>324</td><td>107111</td><td>Southern Boulevard</td><td>East 163 Street</td><td>Aldus Street</td><td>NB</td><td>2018-01-20</td><td>160</td><td>114</td><td>92</td><td>50</td><td>63</td><td>77</td><td>90</td><td>172</td><td>248</td><td>292</td><td>321</td><td>356</td><td>326</td><td>390</td><td>396</td><td>414</td><td>438</td><td>425</td><td>380</td><td>309</td><td>311</td><td>264</td><td>205</td><td>174</td></tr>\n",
       "<tr><td>324</td><td>107111</td><td>Southern Boulevard</td><td>East 163 Street</td><td>Aldus Street</td><td>SB</td><td>2018-01-20</td><td>161</td><td>110</td><td>111</td><td>76</td><td>100</td><td>111</td><td>109</td><td>156</td><td>210</td><td>252</td><td>273</td><td>320</td><td>269</td><td>277</td><td>287</td><td>330</td><td>280</td><td>338</td><td>301</td><td>276</td><td>296</td><td>272</td><td>195</td><td>176</td></tr>\n",
       "<tr><td>325</td><td>101621</td><td>Douglaston Parkway</td><td>Maryland Road</td><td>Van Zandt Avenue</td><td>NB</td><td>2018-01-20</td><td>38</td><td>21</td><td>10</td><td>16</td><td>9</td><td>25</td><td>30</td><td>74</td><td>159</td><td>249</td><td>246</td><td>231</td><td>288</td><td>268</td><td>253</td><td>275</td><td>284</td><td>282</td><td>218</td><td>216</td><td>147</td><td>109</td><td>90</td><td>70</td></tr>\n",
       "</table>\n",
       "only showing top 20 rows\n"
      ],
      "text/plain": [
       "+---+----------+--------------------+---------------+----------------+---------+----------+-------------+-----------+-----------+-----------+-----------+-----------+-----------+-----------+-----------+------------+-------------+-------------+------------+-----------+-----------+-----------+-----------+-----------+-----------+-----------+-----------+------------+-------------+-------------+\n",
       "| ID|Segment ID|        Roadway Name|           From|              To|Direction|      date|12:00-1:00 AM|1:00-2:00AM|2:00-3:00AM|3:00-4:00AM|4:00-5:00AM|5:00-6:00AM|6:00-7:00AM|7:00-8:00AM|8:00-9:00AM|9:00-10:00AM|10:00-11:00AM|11:00-12:00PM|12:00-1:00PM|1:00-2:00PM|2:00-3:00PM|3:00-4:00PM|4:00-5:00PM|5:00-6:00PM|6:00-7:00PM|7:00-8:00PM|8:00-9:00PM|9:00-10:00PM|10:00-11:00PM|11:00-12:00AM|\n",
       "+---+----------+--------------------+---------------+----------------+---------+----------+-------------+-----------+-----------+-----------+-----------+-----------+-----------+-----------+-----------+------------+-------------+-------------+------------+-----------+-----------+-----------+-----------+-----------+-----------+-----------+-----------+------------+-------------+-------------+\n",
       "|317|     69696|        River Avenue|East 150 Street| East 151 Street|       NB|2018-01-20|           88|         62|         41|         27|         37|         30|         46|         58|        147|         174|          211|          251|         311|        323|        310|        362|        309|        319|        296|        258|        203|         177|          153|          127|\n",
       "|317|     69696|        River Avenue|East 150 Street| East 151 Street|       SB|2018-01-20|           50|         37|         25|         15|         21|         30|         50|         78|         99|         115|          146|          174|         216|        186|        205|        237|        240|        237|        247|        211|        175|         142|          104|           99|\n",
       "|318|     70607|     East 163 Street|   EAGLE Avenue|CAULDWELL Avenue|       EB|2018-01-20|          274|        220|        158|        139|        153|        120|        168|        275|        356|         439|          461|          480|         507|        570|        616|        605|        600|        589|        617|        528|        501|         446|          437|          347|\n",
       "|318|     70607|     East 163 Street|   EAGLE Avenue|CAULDWELL Avenue|       WB|2018-01-20|          243|        180|        152|        138|        164|        119|        153|        194|        276|         350|          368|          420|         436|        523|        536|        544|        556|        546|        522|        516|        439|         466|          384|          331|\n",
       "|319|     78940|     East 174 Street|     Hoe Avenue|     Vyse Avenue|       EB|2018-01-20|           97|         57|         38|         45|         35|         63|         73|        119|        196|         265|          322|          346|         369|        395|        394|        363|        347|        360|        283|        287|        221|         235|          152|          175|\n",
       "|319|     78940|     East 174 Street|     Hoe Avenue|     Vyse Avenue|       WB|2018-01-20|          140|         84|         64|         56|         38|         44|         50|         77|        145|         202|          279|          331|         366|        325|        324|        363|        426|        351|        318|        305|        239|         210|          173|          170|\n",
       "|320|     69836|     East 149 Street|    Park Avenue|   Morris Avenue|       EB|2018-01-20|          196|         96|         66|         46|         40|         55|         77|        207|        307|         341|          395|          433|         431|        522|        515|        538|        554|        498|        560|        434|        449|         356|          334|          279|\n",
       "|320|     69836|     East 149 Street|    Park Avenue|   Morris Avenue|       WB|2018-01-20|          249|        216|        165|        162|        160|        127|        196|        238|        368|         404|          442|          491|         495|        572|        535|        563|        713|        582|        536|        522|        442|         398|          399|          388|\n",
       "|321|    111203|Exterior Street/1...|       3 Avenue| East 138 Street|       SB|2018-01-20|          833|        605|        431|        374|        427|        579|        751|        884|        952|         983|         1017|         1112|        1171|       1266|       1455|       1464|       1454|       1419|       1358|       1275|       1166|        1057|         1032|         1038|\n",
       "|322|    151663|Woodhaven Bouleva...|      97 Avenue|      101 Avenue|       NB|2018-01-20|          488|        325|        246|        219|        266|        255|        359|        480|        667|         797|          940|          998|        1205|       1230|       1350|       1351|       1396|       1241|       1175|       1225|       1083|         915|          814|          654|\n",
       "|322|    156005|Woodhaven Bouleva...|      97 Avenue|      101 Avenue|       SB|2018-01-20|          503|        369|        247|        229|        212|        227|        331|        404|        555|         744|          807|          932|        1058|       1168|       1190|       1233|       1172|       1281|       1278|       1141|        938|         839|          731|          677|\n",
       "|322|    151662|Woodhaven Bouleva...|      97 Avenue|      101 Avenue|       NB|2018-01-20|          233|        128|         92|         76|         95|        124|        167|        216|        309|         377|          452|          456|         473|        536|        552|        576|        582|        562|        544|        453|        478|         351|          309|          283|\n",
       "|322|    151664|Woodhaven Bouleva...|      97 Avenue|      101 Avenue|       SB|2018-01-20|          105|         72|         49|         40|         42|         45|         73|        119|        155|         200|          218|          247|         245|        262|        262|        289|        272|        285|        288|        268|        204|         176|          166|          126|\n",
       "|323|    176365|Bedford Park Boul...|Grand Concourse|Valentine Avenue|       NB|2018-01-20|           79|         69|         62|         58|         57|         53|         92|         94|        205|         200|          189|          215|         290|        241|        263|        317|        290|        255|        220|        250|        182|         163|          143|          109|\n",
       "|323|    176365|Bedford Park Boul...|Grand Concourse|Valentine Avenue|       SB|2018-01-20|          123|        125|         78|         66|         55|         66|         69|        107|        148|         174|          177|          192|         233|        243|        286|        296|        321|        289|        282|        255|        281|         243|          205|          180|\n",
       "|323|    154787|Bedford Park Boul...|Grand Concourse|Valentine Avenue|       NB|2018-01-20|          136|         88|         57|         61|         51|         72|         79|        129|        163|         176|          237|          251|         288|        311|        331|        316|        338|        315|        298|        260|        260|         185|          192|          170|\n",
       "|323|    154501|Bedford Park Boul...|Grand Concourse|Valentine Avenue|       SB|2018-01-20|          131|         95|         67|         80|         73|         59|        116|        114|        194|         197|          192|          216|         358|        299|        301|        278|        364|        323|        269|        270|        232|         225|          192|          272|\n",
       "|324|    107111|  Southern Boulevard|East 163 Street|    Aldus Street|       NB|2018-01-20|          160|        114|         92|         50|         63|         77|         90|        172|        248|         292|          321|          356|         326|        390|        396|        414|        438|        425|        380|        309|        311|         264|          205|          174|\n",
       "|324|    107111|  Southern Boulevard|East 163 Street|    Aldus Street|       SB|2018-01-20|          161|        110|        111|         76|        100|        111|        109|        156|        210|         252|          273|          320|         269|        277|        287|        330|        280|        338|        301|        276|        296|         272|          195|          176|\n",
       "|325|    101621|  Douglaston Parkway|  Maryland Road|Van Zandt Avenue|       NB|2018-01-20|           38|         21|         10|         16|          9|         25|         30|         74|        159|         249|          246|          231|         288|        268|        253|        275|        284|        282|        218|        216|        147|         109|           90|           70|\n",
       "+---+----------+--------------------+---------------+----------------+---------+----------+-------------+-----------+-----------+-----------+-----------+-----------+-----------+-----------+-----------+------------+-------------+-------------+------------+-----------+-----------+-----------+-----------+-----------+-----------+-----------+-----------+------------+-------------+-------------+\n",
       "only showing top 20 rows"
      ]
     },
     "execution_count": 4,
     "metadata": {},
     "output_type": "execute_result"
    }
   ],
   "source": [
    "sdf_traffic"
   ]
  },
  {
   "cell_type": "code",
   "execution_count": 5,
   "metadata": {
    "ExecuteTime": {
     "end_time": "2021-08-14T14:32:10.903883Z",
     "start_time": "2021-08-14T14:32:10.891135Z"
    }
   },
   "outputs": [
    {
     "data": {
      "text/html": [
       "<div>\n",
       "<style scoped>\n",
       "    .dataframe tbody tr th:only-of-type {\n",
       "        vertical-align: middle;\n",
       "    }\n",
       "\n",
       "    .dataframe tbody tr th {\n",
       "        vertical-align: top;\n",
       "    }\n",
       "\n",
       "    .dataframe thead th {\n",
       "        text-align: right;\n",
       "    }\n",
       "</style>\n",
       "<table border=\"1\" class=\"dataframe\">\n",
       "  <thead>\n",
       "    <tr style=\"text-align: right;\">\n",
       "      <th></th>\n",
       "      <th>date</th>\n",
       "      <th>Volume</th>\n",
       "      <th>DayOfWeek</th>\n",
       "    </tr>\n",
       "  </thead>\n",
       "  <tbody>\n",
       "    <tr>\n",
       "      <th>0</th>\n",
       "      <td>2018-01-20</td>\n",
       "      <td>166016</td>\n",
       "      <td>Sat</td>\n",
       "    </tr>\n",
       "    <tr>\n",
       "      <th>1</th>\n",
       "      <td>2018-01-21</td>\n",
       "      <td>132531</td>\n",
       "      <td>Sun</td>\n",
       "    </tr>\n",
       "    <tr>\n",
       "      <th>2</th>\n",
       "      <td>2018-01-22</td>\n",
       "      <td>173544</td>\n",
       "      <td>Mon</td>\n",
       "    </tr>\n",
       "  </tbody>\n",
       "</table>\n",
       "</div>"
      ],
      "text/plain": [
       "        date  Volume DayOfWeek\n",
       "0 2018-01-20  166016       Sat\n",
       "1 2018-01-21  132531       Sun\n",
       "2 2018-01-22  173544       Mon"
      ]
     },
     "execution_count": 5,
     "metadata": {},
     "output_type": "execute_result"
    }
   ],
   "source": [
    "## Aggregate by Date\n",
    "traffic_daily = traffic_df.groupby(\"date\").sum()\n",
    "traffic_daily.reset_index(inplace=True)\n",
    "traffic_daily[\"date\"] = pd.to_datetime(traffic_daily[\"date\"], format='%Y-%m-%d')\n",
    "traffic_daily[\"DayOfWeek\"] = traffic_daily[\"date\"].dt.day_name().astype(str).str[0:3]\n",
    "traffic_daily.head(3)"
   ]
  },
  {
   "cell_type": "code",
   "execution_count": 6,
   "metadata": {
    "ExecuteTime": {
     "end_time": "2021-08-14T14:32:10.929661Z",
     "start_time": "2021-08-14T14:32:10.905323Z"
    }
   },
   "outputs": [],
   "source": [
    "fpath = '../preprocessed_data/traffic_daily.parquet'\n",
    "\n",
    "traffic_daily.to_parquet(fpath)"
   ]
  }
 ],
 "metadata": {
  "kernelspec": {
   "display_name": "Python 3",
   "language": "python",
   "name": "python3"
  },
  "language_info": {
   "codemirror_mode": {
    "name": "ipython",
    "version": 3
   },
   "file_extension": ".py",
   "mimetype": "text/x-python",
   "name": "python",
   "nbconvert_exporter": "python",
   "pygments_lexer": "ipython3",
   "version": "3.8.10"
  },
  "latex_envs": {
   "LaTeX_envs_menu_present": true,
   "autoclose": false,
   "autocomplete": true,
   "bibliofile": "biblio.bib",
   "cite_by": "apalike",
   "current_citInitial": 1,
   "eqLabelWithNumbers": true,
   "eqNumInitial": 1,
   "hotkeys": {
    "equation": "Ctrl-E",
    "itemize": "Ctrl-I"
   },
   "labels_anchors": false,
   "latex_user_defs": false,
   "report_style_numbering": false,
   "user_envs_cfg": false
  },
  "varInspector": {
   "cols": {
    "lenName": 16,
    "lenType": 16,
    "lenVar": 40
   },
   "kernels_config": {
    "python": {
     "delete_cmd_postfix": "",
     "delete_cmd_prefix": "del ",
     "library": "var_list.py",
     "varRefreshCmd": "print(var_dic_list())"
    },
    "r": {
     "delete_cmd_postfix": ") ",
     "delete_cmd_prefix": "rm(",
     "library": "var_list.r",
     "varRefreshCmd": "cat(var_dic_list()) "
    }
   },
   "types_to_exclude": [
    "module",
    "function",
    "builtin_function_or_method",
    "instance",
    "_Feature"
   ],
   "window_display": false
  }
 },
 "nbformat": 4,
 "nbformat_minor": 4
}
